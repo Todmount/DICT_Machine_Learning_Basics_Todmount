{
  "cells": [
    {
      "cell_type": "markdown",
      "metadata": {
        "id": "view-in-github",
        "colab_type": "text"
      },
      "source": [
        "<a href=\"https://colab.research.google.com/github/Todmount/KHAI_MLcourse/blob/PR6/Task_6.ipynb\" target=\"_parent\"><img src=\"https://colab.research.google.com/assets/colab-badge.svg\" alt=\"Open In Colab\"/></a>"
      ]
    },
    {
      "cell_type": "markdown",
      "source": [
        "# Практика №6\n",
        "## Проста лінійна регресія. Градієнтний спуск.\n"
      ],
      "metadata": {
        "collapsed": false,
        "id": "f4e559b41cdf2b7"
      },
      "id": "f4e559b41cdf2b7"
    },
    {
      "cell_type": "code",
      "execution_count": 2,
      "outputs": [],
      "source": [
        "# імпорт необхідних бібліотек\n",
        "import numpy as np\n",
        "import matplotlib.pyplot as plt\n",
        "from sklearn.linear_model import LinearRegression\n",
        "from sklearn.datasets import make_regression"
      ],
      "metadata": {
        "ExecuteTime": {
          "end_time": "2023-10-10T08:37:18.787079800Z",
          "start_time": "2023-10-10T08:37:17.323418100Z"
        },
        "id": "4ac5f3fb13fd8a44"
      },
      "id": "4ac5f3fb13fd8a44"
    },
    {
      "cell_type": "markdown",
      "source": [
        "#### Генерування даних для навчання моделі"
      ],
      "metadata": {
        "collapsed": false,
        "id": "3bf5e18cbec4d067"
      },
      "id": "3bf5e18cbec4d067"
    },
    {
      "cell_type": "code",
      "execution_count": 3,
      "outputs": [
        {
          "output_type": "display_data",
          "data": {
            "text/plain": [
              "<Figure size 640x480 with 1 Axes>"
            ],
            "image/png": "[encoded data removed]"
          },
          "metadata": {}
        }
      ],
      "source": [
        "X, y = make_regression(n_samples=100, n_features=1, n_informative=1,\n",
        "                       noise=10, random_state=10)\n",
        "\n",
        "plt.scatter(X, y, label='Data')\n",
        "plt.xlabel('Feature')\n",
        "plt.ylabel('Target')\n",
        "plt.legend()\n",
        "plt.grid()\n",
        "plt.show()"
      ],
      "metadata": {
        "ExecuteTime": {
          "end_time": "2023-10-10T08:37:20.376102500Z",
          "start_time": "2023-10-10T08:37:20.204140400Z"
        },
        "id": "c8aba34f75f45eda",
        "outputId": "196248dd-db7a-4690-ed3f-320a4986f215",
        "colab": {
          "base_uri": "https://localhost:8080/",
          "height": 449
        }
      },
      "id": "c8aba34f75f45eda"
    },
    {
      "cell_type": "markdown",
      "source": [
        "### Функція втрат - середньоквадратична помилка (MSE)\n",
        "\n",
        "$$MSE = \\frac{1}{n}\\sum_{i=0}^n{(\\text{y}_i-\\text{y_pred}_i})^2 = \\frac{1}{n}\\sum_{i=0}^n{(\\text{y}_i-(w_1\\cdot X_i + w_0)})^2 = \\frac{1}{n}\\sum_{i=0}^n{(\\text{y}_i-w_1\\cdot X_i - w_0})^2$$\n",
        "\n"
      ],
      "metadata": {
        "collapsed": false,
        "id": "31d7350f041df215"
      },
      "id": "31d7350f041df215"
    },
    {
      "cell_type": "markdown",
      "source": [
        "### Градієнт функції середньоквадратичної помилки\n",
        "\n",
        "Розпишемо градієнт окремо для коефіцієнта зсуву ($\\omega_0$) і коефіцієнта нахилу ($\\omega_1$).\n",
        "\n",
        "Коефіцієнт зсуву:\n",
        "$$\\frac{∂ MSE}{∂ w_0} = \\frac{1 \\cdot 2}{n}\\sum({y_i -\\text{y_pred}_i})\\cdot (-1)$$\n",
        "\n",
        "Коефіцієнт нахилу:\n",
        "$$\\frac{∂ MSE}{∂ w_1} = \\frac{1 \\cdot 2}{n}\\sum({y_i -\\text{y_pred}_i})\\cdot (-X)$$\n"
      ],
      "metadata": {
        "collapsed": false,
        "id": "64b6a246a4b35fe"
      },
      "id": "64b6a246a4b35fe"
    },
    {
      "cell_type": "markdown",
      "source": [
        "#### Завдання\n",
        "\n",
        "1. Реалізувати функцію втрат тобто функцію $MSE$.\n",
        "2. Реалізувати функцію розрахунку градієнтів для вищевказаної функції втрат.\n",
        "3. Реалізувати цикл градієнтного спуску. На початку необхідно ініціалізувати коефіцієнти моделі нулями, потім на кожному кроці рахувати градієнт тобто множити його на крок навчання і віднімати його з попередніх значень коефіцієнтів і так далі поки не зрозуміємо, що точки коефіцієнтів дуже схожі один на одного на сусідніх ітерація. Встановіть мінімальне значення, на яке повинні змінюватися ваги $\\epsilon = 0.0001$. Крок навчання $\\alpha$ встановіть 0.1.\n",
        "4. Навчити модель з використанням модулю LinearRegression і порівняти результат."
      ],
      "metadata": {
        "collapsed": false,
        "id": "80f149634d02fe5f"
      },
      "id": "80f149634d02fe5f"
    },
    {
      "cell_type": "markdown",
      "source": [
        "## Виконання"
      ],
      "metadata": {
        "id": "L7BeJYcWI5zE"
      },
      "id": "L7BeJYcWI5zE"
    },
    {
      "cell_type": "markdown",
      "source": [
        "### Розрахунок коефіцієнтів методом MSE"
      ],
      "metadata": {
        "id": "euwhTAxYAF4V"
      },
      "id": "euwhTAxYAF4V"
    },
    {
      "cell_type": "code",
      "source": [
        "def grad_func():\n",
        "    # Параметри градієнтного спуску\n",
        "    N = len(X)\n",
        "    n_iteration = 100\n",
        "    learning_rate = 0.1\n",
        "    epsilon = 0.0001\n",
        "\n",
        "    # Функціїї СКМ та градіентів\n",
        "    def MSE_func():\n",
        "        return (1 / N) * np.sum(y - w1 * X + w0) ** 2\n",
        "\n",
        "    def w1_grad():\n",
        "        return (2 / N) * np.sum((y - y_pred) * (-X[:, 0]))\n",
        "\n",
        "    def w0_grad():\n",
        "        return (2 / N) * np.sum((y - y_pred) * (-1))\n",
        "\n",
        "    # Ініціалізація коефіцієнтів моделі\n",
        "    w1 = w0 = 0\n",
        "    nw1 = w1\n",
        "    nw0 = w0\n",
        "\n",
        "    # Градіентний спуск\n",
        "    for i in range(n_iteration):\n",
        "        cur_w1 = nw1\n",
        "        cur_w0 = nw0\n",
        "\n",
        "        y_pred = cur_w1 * X[:, 0] + cur_w0\n",
        "\n",
        "        nw1 = cur_w1 - learning_rate * w1_grad()\n",
        "        nw0 = cur_w0 - learning_rate * w0_grad()\n",
        "        # Виведення інформації про поточну ітерацію\n",
        "        # print(f\"Iteration {i + 1}/{n_iteration}, w0: {w0}, w1: {w1}\")\n",
        "        # Умова зупинки\n",
        "        if abs(cur_w1 - nw1) <= epsilon and (abs(cur_w0 - nw0) <= epsilon):\n",
        "            #print(\"Converged\")\n",
        "            break\n",
        "\n",
        "    print(f\"Final coefficients: ω1 = {cur_w1}, ω0 = {cur_w0}\")"
      ],
      "metadata": {
        "id": "auzb3rSQA7Jk"
      },
      "id": "auzb3rSQA7Jk",
      "execution_count": 103,
      "outputs": []
    },
    {
      "cell_type": "markdown",
      "source": [
        "### Розрахунок коефіцієнтів за допомогою LinearRegression  "
      ],
      "metadata": {
        "id": "zS6ON3ZAAPX0"
      },
      "id": "zS6ON3ZAAPX0"
    },
    {
      "cell_type": "code",
      "source": [
        "def grad_func_ml():\n",
        "    model_n = LinearRegression()\n",
        "    model_n.fit(X, y)\n",
        "    print(f\"sklearn LinearRegression: ω1 = {model_n.coef_[0]}, ω0 = {model_n.intercept_}\")"
      ],
      "metadata": {
        "id": "0fs759Tk_3KO"
      },
      "id": "0fs759Tk_3KO",
      "execution_count": 75,
      "outputs": []
    },
    {
      "cell_type": "markdown",
      "source": [
        "### Вивід результатів"
      ],
      "metadata": {
        "id": "ir1Y_bmeATTW"
      },
      "id": "ir1Y_bmeATTW"
    },
    {
      "cell_type": "code",
      "source": [
        "grad_func()\n",
        "grad_func_ml()"
      ],
      "metadata": {
        "colab": {
          "base_uri": "https://localhost:8080/"
        },
        "id": "hdyk6b7R_4Lb",
        "outputId": "b6f5975f-f18d-4c38-83d5-f255c5be21e7"
      },
      "id": "hdyk6b7R_4Lb",
      "execution_count": 104,
      "outputs": [
        {
          "output_type": "stream",
          "name": "stdout",
          "text": [
            "Final coefficients: ω1 = 30.658494511222777, ω0 = 0.5283208331345618\n",
            "sklearn LinearRegression: ω1 = 30.65896337397858, ω0 = 0.5280415108758181\n"
          ]
        }
      ]
    }
  ],
  "metadata": {
    "kernelspec": {
      "display_name": "Python 3",
      "language": "python",
      "name": "python3"
    },
    "language_info": {
      "codemirror_mode": {
        "name": "ipython",
        "version": 2
      },
      "file_extension": ".py",
      "mimetype": "text/x-python",
      "name": "python",
      "nbconvert_exporter": "python",
      "pygments_lexer": "ipython2",
      "version": "2.7.6"
    },
    "colab": {
      "provenance": [],
      "include_colab_link": true
    }
  },
  "nbformat": 4,
  "nbformat_minor": 5
}
