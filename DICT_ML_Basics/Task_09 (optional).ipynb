{
  "nbformat": 4,
  "nbformat_minor": 0,
  "metadata": {
    "colab": {
      "provenance": [],
      "mount_file_id": "18CjEU2urSKuvZc2mdH5ezt5W1xboirah",
      "authorship_tag": "ABX9TyPdvANd9iFDdAhtLPaZvIQQ",
      "include_colab_link": true
    },
    "kernelspec": {
      "name": "python3",
      "display_name": "Python 3"
    },
    "language_info": {
      "name": "python"
    }
  },
  "cells": [
    {
      "cell_type": "markdown",
      "metadata": {
        "id": "view-in-github",
        "colab_type": "text"
      },
      "source": [
        "<a href=\"https://colab.research.google.com/github/Todmount/KHAI_MLcourse/blob/PR9/Task_9_proc.ipynb\" target=\"_parent\"><img src=\"https://colab.research.google.com/assets/colab-badge.svg\" alt=\"Open In Colab\"/></a>"
      ]
    },
    {
      "cell_type": "markdown",
      "source": [
        "# Практика №9\n",
        "Класифікація. Логістична регресія."
      ],
      "metadata": {
        "id": "nIaXSm38d4Lw"
      }
    },
    {
      "cell_type": "markdown",
      "source": [
        "Кроки виконання завдання.\n",
        "1. Зчитайте дані (pd.read_csv).\n",
        "2. Сформуйте дані ознак (матриця X) і вектор міток (y – це стовпець\n",
        "Outcome).\n",
        "3. Виконайте нормалізацію ознак (скористайтеся функцією\n",
        "StandardScaler з бібліотеки sklearn.preprocessing).\n",
        "\n",
        "4. Виконайте розбиття набору даних: 70% на навчання, 30% на\n",
        "перевірку.\n",
        "5. Побудуйте модель логістичної регресії (метод fit з класу\n",
        "LogisticRegression з модулю sklearn.linear_model).\n",
        "6. Перевірте модель на виділених раніше 30% набору даних.\n",
        "7. Виведіть результати, точність прогнозу (accuracy_score,\n",
        "classification_report з модулю sklearn.metrics)."
      ],
      "metadata": {
        "id": "1pk1w9aXfrep"
      }
    },
    {
      "cell_type": "markdown",
      "source": [
        "# Виконання"
      ],
      "metadata": {
        "id": "hhXT24xmitc5"
      }
    },
    {
      "cell_type": "code",
      "source": [
        "from google.colab import drive\n",
        "drive.mount('/content/drive')"
      ],
      "metadata": {
        "colab": {
          "base_uri": "https://localhost:8080/"
        },
        "id": "96uCKDwLfKQ3",
        "outputId": "feaab8f2-3394-4022-e90e-d3c616f75ffb"
      },
      "execution_count": 4,
      "outputs": [
        {
          "output_type": "stream",
          "name": "stdout",
          "text": [
            "Drive already mounted at /content/drive; to attempt to forcibly remount, call drive.mount(\"/content/drive\", force_remount=True).\n"
          ]
        }
      ]
    },
    {
      "cell_type": "code",
      "execution_count": 2,
      "metadata": {
        "id": "MEtzU1Codv8G"
      },
      "outputs": [],
      "source": [
        "import pandas as pd\n",
        "from sklearn.model_selection import train_test_split\n",
        "from sklearn.preprocessing import StandardScaler\n",
        "from sklearn.linear_model import LogisticRegression\n",
        "from sklearn.metrics import accuracy_score, classification_report"
      ]
    },
    {
      "cell_type": "code",
      "source": [
        "data = pd.read_csv('/content/drive/MyDrive/diabetes.csv')\n",
        "\n",
        "# Дані ознак і вектор міток\n",
        "X = data.drop('Outcome', axis=1)\n",
        "y = data['Outcome']\n",
        "\n",
        "# Нормалізація ознак\n",
        "scaler = StandardScaler()\n",
        "X = scaler.fit_transform(X)\n",
        "\n",
        "# Розбиття набору даних\n",
        "X_train, X_test, y_train, y_test = train_test_split(X, y, test_size=0.3, random_state=42)\n",
        "\n",
        "# Модель логістичної регресії\n",
        "model = LogisticRegression()\n",
        "model.fit(X_train, y_train)\n",
        "\n",
        "# Перевірка моделі\n",
        "y_pred = model.predict(X_test)\n",
        "\n",
        "accuracy = accuracy_score(y_test, y_pred)\n",
        "classification_rep = classification_report(y_test, y_pred)\n",
        "\n",
        "print(\"Аccuracy: {:.2f}%\".format(accuracy * 100))\n",
        "print(\"\\nClassification Report:\\n\", classification_rep)"
      ],
      "metadata": {
        "colab": {
          "base_uri": "https://localhost:8080/"
        },
        "id": "lhAZxtT2eDd3",
        "outputId": "b27cacd2-9df2-4770-9b6c-764048673572"
      },
      "execution_count": 10,
      "outputs": [
        {
          "output_type": "stream",
          "name": "stdout",
          "text": [
            "Аccuracy: 73.59%\n",
            "\n",
            "Classification Report:\n",
            "               precision    recall  f1-score   support\n",
            "\n",
            "           0       0.80      0.79      0.80       151\n",
            "           1       0.62      0.62      0.62        80\n",
            "\n",
            "    accuracy                           0.74       231\n",
            "   macro avg       0.71      0.71      0.71       231\n",
            "weighted avg       0.74      0.74      0.74       231\n",
            "\n"
          ]
        }
      ]
    }
  ]
}
