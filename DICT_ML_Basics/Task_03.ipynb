{
  "cells": [
    {
      "cell_type": "markdown",
      "metadata": {
        "id": "view-in-github",
        "colab_type": "text"
      },
      "source": [
        "<a href=\"https://colab.research.google.com/github/Todmount/KHAI_MLcourse/blob/PR3/Task_3.ipynb\" target=\"_parent\"><img src=\"https://colab.research.google.com/assets/colab-badge.svg\" alt=\"Open In Colab\"/></a>"
      ]
    },
    {
      "cell_type": "markdown",
      "source": [
        "# Практика №3\n",
        "## Дослідження даних за допомогою бібліотеки pandas"
      ],
      "metadata": {
        "collapsed": false,
        "id": "3d787a28d2d74f5b"
      },
      "id": "3d787a28d2d74f5b"
    },
    {
      "cell_type": "code",
      "source": [
        "from google.colab import drive\n",
        "drive.mount('/content/drive')"
      ],
      "metadata": {
        "colab": {
          "base_uri": "https://localhost:8080/"
        },
        "id": "aGTa_5qVPmid",
        "outputId": "d24d0bd0-b94b-4281-cd67-2a471baf25ca"
      },
      "id": "aGTa_5qVPmid",
      "execution_count": null,
      "outputs": [
        {
          "output_type": "stream",
          "name": "stdout",
          "text": [
            "Drive already mounted at /content/drive; to attempt to forcibly remount, call drive.mount(\"/content/drive\", force_remount=True).\n"
          ]
        }
      ]
    },
    {
      "cell_type": "code",
      "execution_count": null,
      "outputs": [],
      "source": [
        "# імпорт модулів\n",
        "import numpy as np\n",
        "import pandas as pd\n",
        "import matplotlib.pyplot as plt"
      ],
      "metadata": {
        "ExecuteTime": {
          "end_time": "2023-09-19T08:44:55.881833400Z",
          "start_time": "2023-09-19T08:44:55.584053300Z"
        },
        "id": "c7087f89eda1c2b6"
      },
      "id": "c7087f89eda1c2b6"
    },
    {
      "cell_type": "code",
      "execution_count": null,
      "outputs": [],
      "source": [
        "# зчитайте файл players_20.csv\n",
        "df_data = pd.read_csv('/content/drive/My Drive/players_20.csv')"
      ],
      "metadata": {
        "ExecuteTime": {
          "end_time": "2023-09-19T08:45:03.752662600Z",
          "start_time": "2023-09-19T08:45:03.750130900Z"
        },
        "id": "cd1b6214f1e27fac"
      },
      "id": "cd1b6214f1e27fac"
    },
    {
      "cell_type": "code",
      "execution_count": null,
      "outputs": [
        {
          "output_type": "stream",
          "name": "stdout",
          "text": [
            "   sofifa_id                                         player_url  \\\n",
            "0     158023  https://sofifa.com/player/158023/lionel-messi/...   \n",
            "1      20801  https://sofifa.com/player/20801/c-ronaldo-dos-...   \n",
            "2     190871  https://sofifa.com/player/190871/neymar-da-sil...   \n",
            "3     200389  https://sofifa.com/player/200389/jan-oblak/20/...   \n",
            "4     183277  https://sofifa.com/player/183277/eden-hazard/2...   \n",
            "\n",
            "          short_name                            long_name  age         dob  \\\n",
            "0           L. Messi       Lionel Andrés Messi Cuccittini   32  1987-06-24   \n",
            "1  Cristiano Ronaldo  Cristiano Ronaldo dos Santos Aveiro   34  1985-02-05   \n",
            "2          Neymar Jr        Neymar da Silva Santos Junior   27  1992-02-05   \n",
            "3           J. Oblak                            Jan Oblak   26  1993-01-07   \n",
            "4          E. Hazard                          Eden Hazard   28  1991-01-07   \n",
            "\n",
            "   height_cm  weight_kg nationality                 club  ...   lwb   ldm  \\\n",
            "0        170         72   Argentina         FC Barcelona  ...  68+2  66+2   \n",
            "1        187         83    Portugal             Juventus  ...  65+3  61+3   \n",
            "2        175         68      Brazil  Paris Saint-Germain  ...  66+3  61+3   \n",
            "3        188         87    Slovenia      Atlético Madrid  ...   NaN   NaN   \n",
            "4        175         74     Belgium          Real Madrid  ...  66+3  63+3   \n",
            "\n",
            "    cdm   rdm   rwb    lb   lcb    cb   rcb    rb  \n",
            "0  66+2  66+2  68+2  63+2  52+2  52+2  52+2  63+2  \n",
            "1  61+3  61+3  65+3  61+3  53+3  53+3  53+3  61+3  \n",
            "2  61+3  61+3  66+3  61+3  46+3  46+3  46+3  61+3  \n",
            "3   NaN   NaN   NaN   NaN   NaN   NaN   NaN   NaN  \n",
            "4  63+3  63+3  66+3  61+3  49+3  49+3  49+3  61+3  \n",
            "\n",
            "[5 rows x 104 columns]\n"
          ]
        }
      ],
      "source": [
        "# виведіть перші 5 рядків\n",
        "print(df_data.head())"
      ],
      "metadata": {
        "ExecuteTime": {
          "end_time": "2023-09-19T08:45:09.803122Z",
          "start_time": "2023-09-19T08:45:09.801083200Z"
        },
        "id": "25973717c53c8066",
        "colab": {
          "base_uri": "https://localhost:8080/"
        },
        "outputId": "3fbf507f-e493-41c4-d6cb-3acdcd149932"
      },
      "id": "25973717c53c8066"
    },
    {
      "cell_type": "code",
      "execution_count": null,
      "outputs": [
        {
          "output_type": "stream",
          "name": "stdout",
          "text": [
            "Розміри DataFrame: (18278, 104)\n"
          ]
        }
      ],
      "source": [
        "# отримайте розміри обєкту DataFrame\n",
        "size = df_data.shape\n",
        "print(\"Розміри DataFrame:\", size)"
      ],
      "metadata": {
        "ExecuteTime": {
          "end_time": "2023-09-19T08:45:22.297509Z",
          "start_time": "2023-09-19T08:45:22.297509Z"
        },
        "id": "2775a85f0ca4329e",
        "colab": {
          "base_uri": "https://localhost:8080/"
        },
        "outputId": "c5cdd247-0306-4395-98c8-d4ffa2dfe346"
      },
      "id": "2775a85f0ca4329e"
    },
    {
      "cell_type": "markdown",
      "source": [
        "Результат має бути $(18278, 104)$"
      ],
      "metadata": {
        "collapsed": false,
        "id": "d85b21a48045cc15"
      },
      "id": "d85b21a48045cc15"
    },
    {
      "cell_type": "code",
      "execution_count": null,
      "outputs": [
        {
          "output_type": "stream",
          "name": "stdout",
          "text": [
            "Список стовпців міток: ['sofifa_id', 'player_url', 'short_name', 'long_name', 'age', 'dob', 'height_cm', 'weight_kg', 'nationality', 'club', 'overall', 'potential', 'value_eur', 'wage_eur', 'player_positions', 'preferred_foot', 'international_reputation', 'weak_foot', 'skill_moves', 'work_rate', 'body_type', 'real_face', 'release_clause_eur', 'player_tags', 'team_position', 'team_jersey_number', 'loaned_from', 'joined', 'contract_valid_until', 'nation_position', 'nation_jersey_number', 'pace', 'shooting', 'passing', 'dribbling', 'defending', 'physic', 'gk_diving', 'gk_handling', 'gk_kicking', 'gk_reflexes', 'gk_speed', 'gk_positioning', 'player_traits', 'attacking_crossing', 'attacking_finishing', 'attacking_heading_accuracy', 'attacking_short_passing', 'attacking_volleys', 'skill_dribbling', 'skill_curve', 'skill_fk_accuracy', 'skill_long_passing', 'skill_ball_control', 'movement_acceleration', 'movement_sprint_speed', 'movement_agility', 'movement_reactions', 'movement_balance', 'power_shot_power', 'power_jumping', 'power_stamina', 'power_strength', 'power_long_shots', 'mentality_aggression', 'mentality_interceptions', 'mentality_positioning', 'mentality_vision', 'mentality_penalties', 'mentality_composure', 'defending_marking', 'defending_standing_tackle', 'defending_sliding_tackle', 'goalkeeping_diving', 'goalkeeping_handling', 'goalkeeping_kicking', 'goalkeeping_positioning', 'goalkeeping_reflexes', 'ls', 'st', 'rs', 'lw', 'lf', 'cf', 'rf', 'rw', 'lam', 'cam', 'ram', 'lm', 'lcm', 'cm', 'rcm', 'rm', 'lwb', 'ldm', 'cdm', 'rdm', 'rwb', 'lb', 'lcb', 'cb', 'rcb', 'rb']\n"
          ]
        }
      ],
      "source": [
        "# Отримайте список стовпців міток (див. атрибут columns, а потім використайте метод list() щоб перетворити їх на список)\n",
        "df_columns = list(df_data.columns)\n",
        "print(\"Список стовпців міток:\", df_columns)"
      ],
      "metadata": {
        "ExecuteTime": {
          "end_time": "2023-09-19T08:45:31.988059900Z",
          "start_time": "2023-09-19T08:45:31.988059900Z"
        },
        "id": "6bde006fa1aaa15f",
        "colab": {
          "base_uri": "https://localhost:8080/"
        },
        "outputId": "adf49d97-bef1-4429-cb00-251e965edb4c"
      },
      "id": "6bde006fa1aaa15f"
    },
    {
      "cell_type": "code",
      "execution_count": null,
      "outputs": [],
      "source": [
        "# створіть список з переліком назв стовпців, які потім необхідно буде видалити\n",
        "# Перелік стовпців: 'dob','sofifa_id', 'player_url', 'long_name', 'body_type', 'real_face', 'loaned_from', 'nation_position', 'nation_jersey_number'\n",
        "useless_columns = ['dob','sofifa_id', 'player_url', 'long_name', 'body_type', 'real_face', 'loaned_from', 'nation_position', 'nation_jersey_number']"
      ],
      "metadata": {
        "ExecuteTime": {
          "end_time": "2023-09-19T08:45:47.164845400Z",
          "start_time": "2023-09-19T08:45:47.134899500Z"
        },
        "id": "e05479df5db4e603"
      },
      "id": "e05479df5db4e603"
    },
    {
      "cell_type": "code",
      "execution_count": null,
      "outputs": [],
      "source": [
        "# видаліть вказані вище мітки стовпці (див. метод drop і зверніть увагу на параметр axis, оскільки необхідно видалити саме стовпці)\n",
        "df_dropped = df_data.drop(useless_columns, axis=1)"
      ],
      "metadata": {
        "ExecuteTime": {
          "end_time": "2023-09-19T08:45:52.621562900Z",
          "start_time": "2023-09-19T08:45:52.604905100Z"
        },
        "id": "e1dfb4c228816c63"
      },
      "id": "e1dfb4c228816c63"
    },
    {
      "cell_type": "code",
      "execution_count": null,
      "outputs": [
        {
          "output_type": "stream",
          "name": "stdout",
          "text": [
            "18273    79\n",
            "18274    66\n",
            "18275    75\n",
            "18276    74\n",
            "18277    78\n",
            "Name: weight_kg, dtype: int64\n"
          ]
        }
      ],
      "source": [
        "# виведіть останні 5 рядків за стовпцем з міткою 'weight_kg'\n",
        "last_5_rows_weight = df_dropped['weight_kg'].tail(5)\n",
        "print(last_5_rows_weight)"
      ],
      "metadata": {
        "ExecuteTime": {
          "end_time": "2023-09-19T08:47:56.781678400Z",
          "start_time": "2023-09-19T08:47:56.758414900Z"
        },
        "id": "b08c8221f6089283",
        "colab": {
          "base_uri": "https://localhost:8080/"
        },
        "outputId": "0a86be14-ba81-458c-e03c-c8ad61719d9a"
      },
      "id": "b08c8221f6089283"
    },
    {
      "cell_type": "code",
      "execution_count": null,
      "outputs": [
        {
          "output_type": "stream",
          "name": "stdout",
          "text": [
            "          short_name  weight_kg\n",
            "0           L. Messi         72\n",
            "1  Cristiano Ronaldo         83\n",
            "2          Neymar Jr         68\n",
            "3           J. Oblak         87\n",
            "4          E. Hazard         74\n"
          ]
        }
      ],
      "source": [
        "# виведіть перші 5 рядків за два стовпцями з мітками 'short_name', 'weight_kg'\n",
        "first_5_rows_subset = df_dropped[['short_name', 'weight_kg']].head(5)\n",
        "print(first_5_rows_subset)"
      ],
      "metadata": {
        "ExecuteTime": {
          "end_time": "2023-09-19T08:49:02.814821400Z",
          "start_time": "2023-09-19T08:49:02.814317100Z"
        },
        "id": "8964830b2cf17e14",
        "colab": {
          "base_uri": "https://localhost:8080/"
        },
        "outputId": "7e287122-a415-4016-f239-98a4114519d3"
      },
      "id": "8964830b2cf17e14"
    },
    {
      "cell_type": "code",
      "execution_count": null,
      "outputs": [],
      "source": [
        "# розрахуйте індекс маси тіла для кожного гравця і отримані дані мають бути додані до df_dropped за стовпцем з назвою мітки 'BMI'\n",
        "df_dropped['BMI'] = df_dropped['weight_kg'] / ((df_dropped['height_cm'] / 100) ** 2)"
      ],
      "metadata": {
        "ExecuteTime": {
          "end_time": "2023-09-18T21:54:58.564104Z",
          "start_time": "2023-09-18T21:54:58.553654400Z"
        },
        "id": "4a03eda472d36f1"
      },
      "id": "4a03eda472d36f1"
    },
    {
      "cell_type": "markdown",
      "source": [
        "При розрахунку індексу маси тіла зверніть увагу на те, що зріст гравця вказано у см, а при розрахунку зріст має бути у метрах. Формула для розрахунку:\n",
        "$$BMI = m/h^2 $$\n"
      ],
      "metadata": {
        "collapsed": false,
        "id": "e2e541a417247cee"
      },
      "id": "e2e541a417247cee"
    },
    {
      "cell_type": "code",
      "execution_count": null,
      "outputs": [
        {
          "output_type": "stream",
          "name": "stdout",
          "text": [
            "          short_name        BMI\n",
            "0           L. Messi  24.913495\n",
            "1  Cristiano Ronaldo  23.735308\n",
            "2          Neymar Jr  22.204082\n",
            "3           J. Oblak  24.615211\n",
            "4          E. Hazard  24.163265\n"
          ]
        }
      ],
      "source": [
        "# вивести перші п'ять рядків зі стовпцями з мітками 'short_name' і 'BMI'\n",
        "subset_first_five_rows = df_dropped[['short_name', 'BMI']].head(5)\n",
        "print(subset_first_five_rows)"
      ],
      "metadata": {
        "ExecuteTime": {
          "end_time": "2023-09-19T09:15:54.949850800Z",
          "start_time": "2023-09-19T09:15:54.886299200Z"
        },
        "id": "e78cef8795a875ae",
        "colab": {
          "base_uri": "https://localhost:8080/"
        },
        "outputId": "2d126179-0c3c-4eb2-fd0e-ada40794463b"
      },
      "id": "e78cef8795a875ae"
    },
    {
      "cell_type": "code",
      "execution_count": null,
      "outputs": [
        {
          "output_type": "display_data",
          "data": {
            "text/plain": [
              "<Figure size 640x480 with 1 Axes>"
            ],
            "image/png": "[encoded data removed]"
          },
          "metadata": {}
        }
      ],
      "source": [
        "# Побудувати гістограму розподілу гравців за віком (стовпець 'age')\n",
        "plt.hist(df_dropped['age'], bins=10, edgecolor='black')  # You can adjust the number of bins as needed\n",
        "plt.title('Distribution of Players by Age')\n",
        "plt.xlabel('Age (years)')\n",
        "plt.ylabel('Frequency')\n",
        "plt.show()"
      ],
      "metadata": {
        "ExecuteTime": {
          "end_time": "2023-09-19T09:39:42.859608900Z",
          "start_time": "2023-09-19T09:39:42.854113900Z"
        },
        "id": "f6455ae414ca2a40",
        "colab": {
          "base_uri": "https://localhost:8080/",
          "height": 472
        },
        "outputId": "e6330152-b17b-4321-b305-f324a7e4b32e"
      },
      "id": "f6455ae414ca2a40"
    },
    {
      "cell_type": "code",
      "execution_count": null,
      "outputs": [],
      "source": [],
      "metadata": {
        "id": "55ec30631bf6eb40"
      },
      "id": "55ec30631bf6eb40"
    }
  ],
  "metadata": {
    "kernelspec": {
      "display_name": "Python 3",
      "language": "python",
      "name": "python3"
    },
    "language_info": {
      "codemirror_mode": {
        "name": "ipython",
        "version": 2
      },
      "file_extension": ".py",
      "mimetype": "text/x-python",
      "name": "python",
      "nbconvert_exporter": "python",
      "pygments_lexer": "ipython2",
      "version": "2.7.6"
    },
    "colab": {
      "provenance": [],
      "include_colab_link": true
    }
  },
  "nbformat": 4,
  "nbformat_minor": 5
}
