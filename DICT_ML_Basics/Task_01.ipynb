{
 "cells": [
  {
   "cell_type": "markdown",
   "metadata": {},
   "source": [
    "# Практика №1"
   ]
  },
  {
   "cell_type": "markdown",
   "metadata": {},
   "source": [
    "Розглянемо спрощену задачу відновлення залежності. Отже, на вході маємо координати двох точок. На виході необхідно отримати рівняння прямої, що проходить через обидві точки.\n",
    "\n",
    "Таким чином, завдання полягає в тому, щоб реалізувати функцію, яка приймає значення координат двох точок як вхідні параметри і повертає рядок, який представляє собою рівняння прямої\n"
   ]
  },
  {
   "cell_type": "markdown",
   "metadata": {},
   "source": [
    "Нехай заданими двома точками є $A(x_1, y_1)$ і $B(x_2, y_2)$. Тепер необхідно знайти рівняння прямої, утвореної цими точками.\n",
    "\n",
    "Нагадаємо, що будь-яку пряму можна представити наступним чином:\n",
    "$$\n",
    "ax + by = c\n",
    "$$\n",
    "\n",
    "Нехай дві точки задовольняють дану пряму. В такому випадку маємо наступне\n",
    "$$\n",
    "ax_1 + by_1 = c\n",
    "$$\n",
    "$$\n",
    "ax_2 + by_2 = c\n",
    "$$"
   ]
  },
  {
   "cell_type": "markdown",
   "metadata": {},
   "source": [
    "### Завдання 1.\n",
    "Враховуючи те, що можна встановити такі значення, щоб усі вищезазначені рівняння були вірними, вам необхідно отримати вирази для $a$ і $b$, а потім обрахувати значення $c$."
   ]
  },
  {
   "cell_type": "markdown",
   "metadata": {},
   "source": [
    "#### Приклад:\n",
    "Для двох точок $A = (3, 2)$ і $B = (5, 7)$ отримаємо рівняння $$5x-2y=11$$"
   ]
  },
  {
   "cell_type": "markdown",
   "metadata": {},
   "source": [
    "### Завдання 2.\n",
    "Реалізувати функцію, яка буде повертати рівняння прямої."
   ]
  },
  {
   "cell_type": "code",
   "execution_count": 3,
   "metadata": {
    "ExecuteTime": {
     "end_time": "2023-09-05T08:18:26.120313800Z",
     "start_time": "2023-09-05T08:18:26.120313800Z"
    }
   },
   "outputs": [
    {
     "name": "stdout",
     "output_type": "stream",
     "text": [
      "Enter Ax: 3\n",
      "Enter Ay: 2\n",
      "Enter Bx: 5\n",
      "Enter By: 7\n",
      "5.0x - 2.0y = 11.0\n"
     ]
    }
   ],
   "source": [
    "# calc function\n",
    "def equation_of_line(x1, x2, y1, y2):\n",
    "  a = -(y1 - y2)\n",
    "  b = -(x2 - x1)\n",
    "  c = a * x1 + b * y1\n",
    "  eq = f\"{a}x {'+' if b >= 0 else '-'} {abs(b)}y = {c}\"\n",
    "  return eq\n",
    "# input\n",
    "x1 = float(input(\"Enter Ax: \"))\n",
    "y1 = float(input(\"Enter Ay: \"))\n",
    "x2 = float(input(\"Enter Bx: \"))\n",
    "y2 = float(input(\"Enter By: \"))\n",
    "# output\n",
    "eqa = equation_of_line(x1, x2, y1, y2)\n",
    "print(eqa)"
   ]
  },
  {
   "cell_type": "code",
   "execution_count": null,
   "metadata": {},
   "outputs": [],
   "source": []
  }
 ],
 "metadata": {
  "kernelspec": {
   "display_name": "Python 3 (ipykernel)",
   "language": "python",
   "name": "python3"
  },
  "language_info": {
   "codemirror_mode": {
    "name": "ipython",
    "version": 3
   },
   "file_extension": ".py",
   "mimetype": "text/x-python",
   "name": "python",
   "nbconvert_exporter": "python",
   "pygments_lexer": "ipython3",
   "version": "3.11.4"
  }
 },
 "nbformat": 4,
 "nbformat_minor": 1
}
