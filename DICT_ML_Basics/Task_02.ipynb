{
  "cells": [
    {
      "cell_type": "markdown",
      "metadata": {
        "id": "view-in-github",
        "colab_type": "text"
      },
      "source": [
        "<a href=\"https://colab.research.google.com/github/Todmount/KHAI_MLcourse/blob/PR2/Task2.ipynb\" target=\"_parent\"><img src=\"https://colab.research.google.com/assets/colab-badge.svg\" alt=\"Open In Colab\"/></a>"
      ]
    },
    {
      "cell_type": "markdown",
      "source": [
        "# Практика №2\n",
        "## Робота з NumPy\n"
      ],
      "metadata": {
        "collapsed": false,
        "id": "484239dfe77bd680"
      },
      "id": "484239dfe77bd680"
    },
    {
      "cell_type": "code",
      "execution_count": 1,
      "outputs": [],
      "source": [
        "import numpy as np"
      ],
      "metadata": {
        "ExecuteTime": {
          "end_time": "2023-09-11T22:14:24.726729900Z",
          "start_time": "2023-09-11T22:14:24.633722900Z"
        },
        "id": "c2515f4c385bf434"
      },
      "id": "c2515f4c385bf434"
    },
    {
      "cell_type": "markdown",
      "source": [
        "1. Створіть вектор (1,2,3) і виведіть його. Виведіть тип масиву.\n",
        "2. Створіть наступну матрицю і виведіть її:\n",
        "$$\n",
        "\\left(\\begin{array}{cc}\n",
        "1 & 2 & 3\\\\\n",
        "4 & 5 & 6\\\\\n",
        "7 & 8 & 9\n",
        "\\end{array}\\right)\n",
        "$$\n",
        "3. Створіть нульову матрицю розміром (4,5) - див. numpy.zeros.\n",
        "4. Створіть одиничну матрицю розміром (3,3) - див. numpy.identity.\n",
        "5. Виведіть розмір матриці, створеної на 2 кроці.\n",
        "6. Створити дві матриці  $A =\n",
        "\\left(\\begin{array}{cc}\n",
        "1 & 2 & 3\\\\\n",
        "4 & 5 & 6\n",
        "\\end{array}\\right)\n",
        "$ і $B =\n",
        "\\left(\\begin{array}{cc}\n",
        "-1 & -2 & -3\\\\\n",
        "-4 & -5 & -6\n",
        "\\end{array}\\right)\n",
        "$. Виконайте операції додавання і віднімання для цих двох матриць.\n",
        "7. Для вищезазначених матриць виконайте поелементне множення.\n",
        "8. До матриці $A$ додайте константу $b=2$.\n",
        "9. Виконайте множення матриці $\\left(\\begin{array}{cc}\n",
        "1 & 2 & 3\\\\\n",
        "4 & 5 & 6\n",
        "\\end{array}\\right)\n",
        "$ на матрицю $\\left(\\begin{array}{cc}\n",
        "1 & 1\\\\\n",
        "1 & 1\\\\\n",
        "1 & 1\n",
        "\\end{array}\\right)\n",
        "$\n",
        "10. Для двох векторів $v = (1,2,3)$ і $u = (1,1,1)$ знайти Евклідову норму (див. numpy.linalg.norm)\n",
        "11. Дано вектор $[11,22,33,44,55]$. Необхідно вивести усі елементи від передостаннього елемента до кінця (використайте зріз).\n"
      ],
      "metadata": {
        "collapsed": false,
        "id": "937bec7cd5be44c4"
      },
      "id": "937bec7cd5be44c4"
    },
    {
      "cell_type": "markdown",
      "source": [
        "# Виконання"
      ],
      "metadata": {
        "id": "Q2oXkvhriaPo"
      },
      "id": "Q2oXkvhriaPo"
    },
    {
      "cell_type": "code",
      "execution_count": 29,
      "outputs": [
        {
          "output_type": "stream",
          "name": "stdout",
          "text": [
            "Вектор: [1 2 3]\n",
            "Тип масиву: <class 'numpy.ndarray'>\n"
          ]
        }
      ],
      "source": [
        "# Завдання 1\n",
        "vector = np.array([1, 2, 3])\n",
        "print(\"Вектор:\", vector)\n",
        "print(\"Тип масиву:\", type(vector))"
      ],
      "metadata": {
        "ExecuteTime": {
          "end_time": "2023-09-11T22:15:50.274912900Z",
          "start_time": "2023-09-11T22:15:50.268226800Z"
        },
        "id": "71983571cf1726e1",
        "colab": {
          "base_uri": "https://localhost:8080/"
        },
        "outputId": "1912d563-bd21-4d0d-b3c9-f4a77fca12ed"
      },
      "id": "71983571cf1726e1"
    },
    {
      "cell_type": "code",
      "execution_count": 31,
      "outputs": [
        {
          "output_type": "stream",
          "name": "stdout",
          "text": [
            "Матриця:\n",
            "[[1 4 7]\n",
            " [2 5 8]\n",
            " [3 6 9]]\n"
          ]
        }
      ],
      "source": [
        "# Завдання 2\n",
        "matrix = np.array([[1, 4, 7], [2, 5, 8], [3, 6, 9]])\n",
        "print(\"Матриця:\")\n",
        "print(matrix)"
      ],
      "metadata": {
        "id": "2af1fe0497f37da1",
        "colab": {
          "base_uri": "https://localhost:8080/"
        },
        "outputId": "6b4b87b7-346b-468f-c5ae-227543cb5679"
      },
      "id": "2af1fe0497f37da1"
    },
    {
      "cell_type": "code",
      "execution_count": 32,
      "outputs": [
        {
          "output_type": "stream",
          "name": "stdout",
          "text": [
            "Нульова матриця:\n",
            "[[0. 0. 0. 0. 0.]\n",
            " [0. 0. 0. 0. 0.]\n",
            " [0. 0. 0. 0. 0.]\n",
            " [0. 0. 0. 0. 0.]]\n"
          ]
        }
      ],
      "source": [
        "# Завдання 3\n",
        "zero_matrix = np.zeros((4, 5))\n",
        "print(\"Нульова матриця:\")\n",
        "print(zero_matrix)"
      ],
      "metadata": {
        "id": "123dc262ded4b53c",
        "colab": {
          "base_uri": "https://localhost:8080/"
        },
        "outputId": "bf91a1f6-948b-42ee-d637-d87f52afe9f4"
      },
      "id": "123dc262ded4b53c"
    },
    {
      "cell_type": "code",
      "source": [
        "# Завдання 4\n",
        "identity_matrix = np.identity(3)\n",
        "print(\"Одинична матриця:\")\n",
        "print(identity_matrix)"
      ],
      "metadata": {
        "colab": {
          "base_uri": "https://localhost:8080/"
        },
        "id": "igedavaZb6dk",
        "outputId": "4f30a9e4-9dba-440f-eb7c-3cb74dc09d53"
      },
      "id": "igedavaZb6dk",
      "execution_count": 33,
      "outputs": [
        {
          "output_type": "stream",
          "name": "stdout",
          "text": [
            "Одинична матриця:\n",
            "[[1. 0. 0.]\n",
            " [0. 1. 0.]\n",
            " [0. 0. 1.]]\n"
          ]
        }
      ]
    },
    {
      "cell_type": "code",
      "source": [
        "# Завдання 5\n",
        "matrix_size = matrix.shape\n",
        "print(\"Розмір матриці:\", matrix_size)"
      ],
      "metadata": {
        "colab": {
          "base_uri": "https://localhost:8080/"
        },
        "id": "oi4jsP4db_H-",
        "outputId": "7389819c-9b29-493b-be64-25677273d7f2"
      },
      "id": "oi4jsP4db_H-",
      "execution_count": 34,
      "outputs": [
        {
          "output_type": "stream",
          "name": "stdout",
          "text": [
            "Розмір матриці: (3, 3)\n"
          ]
        }
      ]
    },
    {
      "cell_type": "code",
      "source": [
        "# Завдання 6\n",
        "matrix_A = np.array([[1, 2, 3], [4, 5, 6]])\n",
        "matrix_B = np.array([[-1, -2, -3], [-4, -5, -6]])\n",
        "\n",
        "addition = matrix_A + matrix_B\n",
        "subtraction = matrix_A - matrix_B\n",
        "\n",
        "print(\"Матриця A:\")\n",
        "print(matrix_A)\n",
        "print(\"Матриця B:\")\n",
        "print(matrix_B)\n",
        "print(\"Додавання матриць A і B:\")\n",
        "print(addition)\n",
        "print(\"Віднімання матриць A і B:\")\n",
        "print(subtraction)"
      ],
      "metadata": {
        "colab": {
          "base_uri": "https://localhost:8080/"
        },
        "id": "CxGDCLrKb-_G",
        "outputId": "61453219-0910-4072-8403-913ca79e3934"
      },
      "id": "CxGDCLrKb-_G",
      "execution_count": 40,
      "outputs": [
        {
          "output_type": "stream",
          "name": "stdout",
          "text": [
            "Матриця A:\n",
            "[[1 2 3]\n",
            " [4 5 6]]\n",
            "Матриця B:\n",
            "[[-1 -2 -3]\n",
            " [-4 -5 -6]]\n",
            "Додавання матриць A і B:\n",
            "[[0 0 0]\n",
            " [0 0 0]]\n",
            "Віднімання матриць A і B:\n",
            "[[ 2  4  6]\n",
            " [ 8 10 12]]\n"
          ]
        }
      ]
    },
    {
      "cell_type": "code",
      "source": [
        "# Завдання 7\n",
        "elementwise_multiply = np.multiply(matrix_A, matrix_B)\n",
        "print(\"Поелементне множення для матриць A і B:\")\n",
        "print(elementwise_multiply)"
      ],
      "metadata": {
        "colab": {
          "base_uri": "https://localhost:8080/"
        },
        "id": "OJ0CR7r4b-08",
        "outputId": "e5ee35d3-cc61-474f-a9b3-a06a7dadcc78"
      },
      "id": "OJ0CR7r4b-08",
      "execution_count": 14,
      "outputs": [
        {
          "output_type": "stream",
          "name": "stdout",
          "text": [
            "Поелементне множення для матриць A і B:\n",
            "[[ -1  -4  -9]\n",
            " [-16 -25 -36]]\n"
          ]
        }
      ]
    },
    {
      "cell_type": "code",
      "source": [
        "# Завдання 8\n",
        "b = 2\n",
        "matrix_A_plus_b = matrix_A + b\n",
        "print(\"Матриця A плюс константа b:\")\n",
        "print(matrix_A_plus_b)"
      ],
      "metadata": {
        "colab": {
          "base_uri": "https://localhost:8080/"
        },
        "id": "smFJBXHeb-pE",
        "outputId": "2cd71ca1-e9e3-4b46-8649-f39acd31172a"
      },
      "id": "smFJBXHeb-pE",
      "execution_count": 15,
      "outputs": [
        {
          "output_type": "stream",
          "name": "stdout",
          "text": [
            "Матриця A плюс константа b:\n",
            "[[3 4 5]\n",
            " [6 7 8]]\n"
          ]
        }
      ]
    },
    {
      "cell_type": "code",
      "source": [
        "# Завдання 9\n",
        "matrix_C = np.array([[1, 1], [1, 1], [1, 1]])\n",
        "matrix_A_multiply_C = np.dot(matrix_A, matrix_C)\n",
        "print(matrix_A_multiply_C)"
      ],
      "metadata": {
        "colab": {
          "base_uri": "https://localhost:8080/"
        },
        "id": "Ay6IshfZb-dE",
        "outputId": "1d2975fa-cc56-4dd0-a79a-84c32f5cd196"
      },
      "id": "Ay6IshfZb-dE",
      "execution_count": 39,
      "outputs": [
        {
          "output_type": "stream",
          "name": "stdout",
          "text": [
            "[[ 6  6]\n",
            " [15 15]]\n"
          ]
        }
      ]
    },
    {
      "cell_type": "code",
      "source": [
        "# Завдання 10\n",
        "v = np.array([1, 2, 3])\n",
        "u = np.array([1, 1, 1])\n",
        "norm_v = np.linalg.norm(v)\n",
        "norm_u = np.linalg.norm(u)\n",
        "print(\"Евклідова норма для вектора v:\", norm_v)\n",
        "print(\"Евклідова норма для вектора u:\", norm_u)"
      ],
      "metadata": {
        "colab": {
          "base_uri": "https://localhost:8080/"
        },
        "id": "bwVtzbG3b9uk",
        "outputId": "e52ca61f-fc0a-4d2a-ead3-8da443b4c0be"
      },
      "id": "bwVtzbG3b9uk",
      "execution_count": 25,
      "outputs": [
        {
          "output_type": "stream",
          "name": "stdout",
          "text": [
            "Евклідова норма для вектора v: 3.7416573867739413\n",
            "Евклідова норма для вектора u: 1.7320508075688772\n"
          ]
        }
      ]
    },
    {
      "cell_type": "code",
      "source": [
        "# Завдання 11\n",
        "vector_example = np.array([11, 22, 33, 44, 55])\n",
        "last_two_elements = vector_example[-2:]\n",
        "print(\"Елементи від передостаннього до кінця:\", last_two_elements)"
      ],
      "metadata": {
        "colab": {
          "base_uri": "https://localhost:8080/"
        },
        "id": "hjI4HmIHb9hM",
        "outputId": "45f2384a-d461-4796-876f-e16ccf1900d5"
      },
      "id": "hjI4HmIHb9hM",
      "execution_count": 38,
      "outputs": [
        {
          "output_type": "stream",
          "name": "stdout",
          "text": [
            "Елементи від передостаннього до кінця: [44 55]\n"
          ]
        }
      ]
    }
  ],
  "metadata": {
    "kernelspec": {
      "display_name": "Python 3",
      "language": "python",
      "name": "python3"
    },
    "language_info": {
      "codemirror_mode": {
        "name": "ipython",
        "version": 2
      },
      "file_extension": ".py",
      "mimetype": "text/x-python",
      "name": "python",
      "nbconvert_exporter": "python",
      "pygments_lexer": "ipython2",
      "version": "2.7.6"
    },
    "colab": {
      "provenance": [],
      "include_colab_link": true
    }
  },
  "nbformat": 4,
  "nbformat_minor": 5
}
