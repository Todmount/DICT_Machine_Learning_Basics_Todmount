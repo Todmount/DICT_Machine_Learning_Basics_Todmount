{
  "cells": [
    {
      "cell_type": "markdown",
      "metadata": {
        "id": "view-in-github",
        "colab_type": "text"
      },
      "source": [
        "<a href=\"https://colab.research.google.com/github/Todmount/KHAI_MLcourse/blob/PR4/Task_4.ipynb\" target=\"_parent\"><img src=\"https://colab.research.google.com/assets/colab-badge.svg\" alt=\"Open In Colab\"/></a>"
      ]
    },
    {
      "cell_type": "markdown",
      "source": [
        "# Практика №4 (додаткова)\n",
        "## Додаткове завдання по дослідженню даних за допомогою бібліотеки pandas."
      ],
      "metadata": {
        "collapsed": false,
        "id": "66fc9e4ddfca5b72"
      },
      "id": "66fc9e4ddfca5b72"
    },
    {
      "cell_type": "markdown",
      "source": [
        "В рамках цього завдання ви будете мати справу з наборами даних, які містять інформацію про пацієнтів із трьох лікарень: загальної ( *general* ), допологової ( *prenatal* ) і спортивної ( *sports* )."
      ],
      "metadata": {
        "collapsed": false,
        "id": "7f4574bb3f0d29f5"
      },
      "id": "7f4574bb3f0d29f5"
    },
    {
      "cell_type": "code",
      "source": [
        "from google.colab import drive\n",
        "drive.mount('/content/drive')"
      ],
      "metadata": {
        "colab": {
          "base_uri": "https://localhost:8080/"
        },
        "id": "2sOtCyVY3b0B",
        "outputId": "a0dc455e-d22b-4e03-a9a1-d2275653b277"
      },
      "id": "2sOtCyVY3b0B",
      "execution_count": 1,
      "outputs": [
        {
          "output_type": "stream",
          "name": "stdout",
          "text": [
            "Mounted at /content/drive\n"
          ]
        }
      ]
    },
    {
      "cell_type": "code",
      "execution_count": 169,
      "outputs": [],
      "source": [
        "# імпорт необхідних бібліотек\n",
        "import pandas as pd\n",
        "import matplotlib.pyplot as plt"
      ],
      "metadata": {
        "ExecuteTime": {
          "end_time": "2023-09-25T21:26:27.781807100Z",
          "start_time": "2023-09-25T21:26:27.780801400Z"
        },
        "id": "2d95e519371edf19"
      },
      "id": "2d95e519371edf19"
    },
    {
      "cell_type": "code",
      "execution_count": 170,
      "outputs": [],
      "source": [
        "# встановлення кількісті стовпців, які pandas дозволяє відображати в терміналі\n",
        "pd.set_option('display.max_columns', 8)"
      ],
      "metadata": {
        "ExecuteTime": {
          "end_time": "2023-09-25T21:26:29.542039Z",
          "start_time": "2023-09-25T21:26:29.537475900Z"
        },
        "id": "3f2c426cf62b9a6f"
      },
      "id": "3f2c426cf62b9a6f"
    },
    {
      "cell_type": "markdown",
      "source": [
        "Спочатку необхідно прочитати 3 файли CSV, що містять набори даних."
      ],
      "metadata": {
        "collapsed": false,
        "id": "931ccb9848382a7b"
      },
      "id": "931ccb9848382a7b"
    },
    {
      "cell_type": "code",
      "execution_count": 171,
      "outputs": [],
      "source": [
        "# зчитати csv файли\n",
        "df_general = pd.read_csv('/content/drive/My Drive/general.csv')\n",
        "df_sports = pd.read_csv('/content/drive/My Drive/sports.csv')\n",
        "df_prenatal = pd.read_csv('/content/drive/My Drive/prenatal.csv')"
      ],
      "metadata": {
        "ExecuteTime": {
          "end_time": "2023-09-25T21:28:36.656632100Z",
          "start_time": "2023-09-25T21:28:36.648159Z"
        },
        "id": "cba2f894d10663bb"
      },
      "id": "cba2f894d10663bb"
    },
    {
      "cell_type": "code",
      "execution_count": null,
      "outputs": [],
      "source": [
        "# надрукуйте перші 20 рядків кожного DataFrame (general, prenatal, sports)\n",
        "print(\"General DataFrame:\")\n",
        "print(df_general.head(20))\n",
        "\n",
        "print(\"\\nPrenatal DataFrame:\")\n",
        "print(df_prenatal.head(20))\n",
        "\n",
        "print(\"\\nSports DataFrame:\")\n",
        "print(df_sports.head(20))"
      ],
      "metadata": {
        "ExecuteTime": {
          "end_time": "2023-09-25T21:29:36.662699200Z",
          "start_time": "2023-09-25T21:29:36.649078700Z"
        },
        "id": "d6018d1e10cb15d0"
      },
      "id": "d6018d1e10cb15d0"
    },
    {
      "cell_type": "code",
      "source": [
        "# список стовбців\n",
        "df_columns = list(df_general.columns)\n",
        "print(\"Список стовпців міток:\", df_columns)\n",
        "df_columns2 = list(df_sports.columns)\n",
        "print(\"Список стовпців міток:\", df_columns2)\n",
        "df_columns3 = list(df_prenatal.columns)\n",
        "print(\"Список стовпців міток:\", df_columns3)"
      ],
      "metadata": {
        "colab": {
          "base_uri": "https://localhost:8080/"
        },
        "id": "xu7NBucf6yDB",
        "outputId": "4e081ce2-6839-43f0-b3b0-5165c28f3df4"
      },
      "id": "xu7NBucf6yDB",
      "execution_count": 183,
      "outputs": [
        {
          "output_type": "stream",
          "name": "stdout",
          "text": [
            "Список стовпців міток: ['Unnamed: 0', 'hospital', 'gender', 'age', 'height', 'weight', 'bmi', 'diagnosis', 'blood_test', 'ecg', 'ultrasound', 'mri', 'xray', 'children', 'months']\n",
            "Список стовпців міток: ['Unnamed: 0', 'hospital', 'gender', 'age', 'height', 'weight', 'bmi', 'diagnosis', 'blood_test', 'ecg', 'ultrasound', 'mri', 'xray', 'children', 'months']\n",
            "Список стовпців міток: ['Unnamed: 0', 'hospital', 'gender', 'age', 'height', 'weight', 'bmi', 'diagnosis', 'blood_test', 'ecg', 'ultrasound', 'mri', 'xray', 'children', 'months']\n"
          ]
        }
      ]
    },
    {
      "cell_type": "markdown",
      "source": [
        "З отриманих даних можна переконатися в тому, що воні поділені на три частини, а назви стовпців різні: **HOSPITAL** і **Sex** у пренатальному відділенні ( *prenatal* ), **Hospital** і **Male/female** у спортивному ( *sports* ). Це заважає дослідженню даних і проведенню статистичних розрахунків та візуалізації. Тому необхідно змінити назви стовпців і об’єднаєти отримані набори даних в один.\n",
        "\n",
        "Щоб об’єднати стовпці, використовуйте функцію **concat** і параметр **ignore_index=True**. Після об’єднання з’явиться бічний стовпець **Unnamed: 0**. Цей стовпець містить індекси таблиць. Цей стовпець не потрібен для практичних цілей, тому видаліть його.\n",
        "\n",
        "Кроки виконання:\n",
        "1. Змініть назви стовпців. Всі назви стовпців у спортивній ( *sports* ) і допологовій ( *prenatal* ) таблицях повинні збігатися з назвами стовпців у загальній таблиці ( *general* ). Зверніть увагу на атрибут **columns**.\n",
        "2. Об’єднайте DataFrames в один. Використовуйте параметр **ignore_index=True** і наступний порядок: **general**, **prenatal**, **sports**.\n",
        "3. Видаліть стовпець **Unnamed: 0** (див. функцію **drop**).\n",
        "4. Надрукуйте 20 випадкових рядків отриманого DataFrame. Для відтворення встановіть random_state=30 (див. [документацію](https://pandas.pydata.org/docs/reference/api/pandas.DataFrame.sample.html))."
      ],
      "metadata": {
        "collapsed": false,
        "id": "d55eda52d3c4fbc7"
      },
      "id": "d55eda52d3c4fbc7"
    },
    {
      "cell_type": "code",
      "execution_count": 175,
      "outputs": [
        {
          "output_type": "stream",
          "name": "stdout",
          "text": [
            "     hospital  gender   age  height  ...  mri  xray children months\n",
            "928    sports    male  22.0   5.961  ...    t     f      NaN    NaN\n",
            "926    sports    male  26.0   5.804  ...    t     f      NaN    NaN\n",
            "901    sports  female  23.0   5.894  ...    t     f      NaN    NaN\n",
            "87    general     man  54.0   1.720  ...  NaN   NaN      NaN    NaN\n",
            "884    sports  female  20.0   6.771  ...    t     f      NaN    NaN\n",
            "297   general     man  56.0   1.480  ...  NaN   NaN      NaN    NaN\n",
            "112   general     man  77.0   1.690  ...  NaN   NaN      NaN    NaN\n",
            "209   general     man  29.0   2.080  ...  NaN   NaN      NaN    NaN\n",
            "419   general     man  53.0   1.700  ...  NaN   NaN      NaN    NaN\n",
            "913    sports  female  22.0   6.435  ...    t     f      NaN    NaN\n",
            "820    sports  female  17.0   5.722  ...    f     t      NaN    NaN\n",
            "861       NaN     NaN   NaN     NaN  ...  NaN   NaN      NaN    NaN\n",
            "10    general     man  27.0   1.850  ...  NaN   NaN      NaN    NaN\n",
            "56    general     man  23.0   1.650  ...  NaN   NaN      NaN    NaN\n",
            "618  prenatal     NaN  30.0   1.490  ...  NaN     f      0.0    2.0\n",
            "978    sports    male  17.0   5.647  ...    f     f      NaN    NaN\n",
            "373   general   woman  44.0   1.660  ...  NaN   NaN      NaN    NaN\n",
            "628  prenatal     NaN  24.0   1.610  ...  NaN     f      0.0    2.0\n",
            "858    sports    male  19.0   7.089  ...    f     t      NaN    NaN\n",
            "944    sports  female  21.0   6.217  ...    f     t      NaN    NaN\n",
            "\n",
            "[20 rows x 14 columns]\n"
          ]
        }
      ],
      "source": [
        "# приклад виконання 4-го кроку:\n",
        "# pandas.DataFrame.sample(n=20, random_state=30)\n",
        "# операції з таблицями по крокам\n",
        "# 1\n",
        "#df_prenatal.columns = df_general.columns\n",
        "#df_sports.columns = df_general.columns\n",
        "df_prenatal = df_prenatal.rename(columns={'HOSPITAL': 'hospital', 'Sex': 'gender'})\n",
        "df_sports = df_sports.rename(columns={'Hospital': 'hospital', 'Male/female': 'gender'})\n",
        "# 2\n",
        "df_combined = pd.concat([df_general, df_prenatal, df_sports], ignore_index=True)\n",
        "# 3\n",
        "df_combined = df_combined.drop(columns='Unnamed: 0', errors='ignore')\n",
        "# 4\n",
        "print(df_combined.sample(n=20, random_state=30))"
      ],
      "metadata": {
        "ExecuteTime": {
          "end_time": "2023-09-25T21:56:46.493911600Z",
          "start_time": "2023-09-25T21:56:46.339661500Z"
        },
        "id": "7825e875428905ac",
        "colab": {
          "base_uri": "https://localhost:8080/"
        },
        "outputId": "a178ec75-f4d0-41df-ff5b-833412e17063"
      },
      "id": "7825e875428905ac"
    },
    {
      "cell_type": "markdown",
      "source": [
        "Далі необхідно виправити таблицю для подальшого аналізу. Деякі комірки таблиці мають значення **NaN**: стать пацієнта не визначена в пологовому стаціонарі, а стовпці з результатами медичних досліджень мають порожні значення у всіх трьох таблицях. Якщо розглянути стовпець **gender**, то в ньому можна побачити **female**, **male**, **man**, **woman**. Тому потрібно виправити дані в цьому стовпці - значення мають бути **f** або **m**. Замініть значення порожнього стовпця статі **gender** для пренатальних пацієнтів на **f** (можна припустити, що пренатальний лікує лише жінок).\n",
        "\n",
        "Стовпці **bmi**, **diagnosis**, **blood_test**, **ecg**, **ultrasound**, **mri**, **xray**, **children**, **months** також потрібно виправити. Замініть значення **NaN** у стовпцях вище нулями.\n",
        "\n",
        "Кроки виконання:\n",
        "1. Видалити всі порожні рядки (див. функцію [dropna](https://pandas.pydata.org/docs/reference/api/pandas.DataFrame.dropna.html)).\n",
        "2. Виправте всі значення стовпця **gender** на **f** і **m** відповідно (див. функцію [replace](https://pandas.pydata.org/docs/reference/api/pandas.DataFrame.replace.html)).\n",
        "3. Замініть значення **NaN** у стовпці **gender** допологового стаціонару ( *prenatal* ) на **f** (див. функцію [fillna](https://pandas.pydata.org/docs/reference/api/pandas.DataFrame.fillna.html)).\n",
        "4. Замініть значення **NaN** у стовпцях **bmi**, **diagnosis**, **blood_test**, **ecg**, **ultrasound**, **mri**, **xray**, **children**, **months** на нулі.\n",
        "5. Надрукуйте розміри ( *shape* ) отриманого об'єкту DataFrame.\n",
        "6. Надрукуйте 20 випадкових рядків отриманого DataFrame. Для відтворення встановіть **random_state=30**.\n",
        "\n"
      ],
      "metadata": {
        "collapsed": false,
        "id": "efe6515726c24510"
      },
      "id": "efe6515726c24510"
    },
    {
      "cell_type": "code",
      "execution_count": 189,
      "outputs": [
        {
          "output_type": "stream",
          "name": "stdout",
          "text": [
            "Розміри (shape) отриманого об'єкту DataFrame:  (1006, 15)\n",
            "\n",
            "     hospital gender   age  height  ...  mri  xray children months\n",
            "929    sports      f  23.0   6.809  ...    t     f      0.0    0.0\n",
            "927    sports      m  21.0   6.052  ...    t     f      0.0    0.0\n",
            "516  prenatal      f  20.0   1.650  ...    0     f      1.0    4.0\n",
            "87    general      m  54.0   1.720  ...    0     0      0.0    0.0\n",
            "885    sports      f  16.0   5.915  ...    t     f      0.0    0.0\n",
            "463  prenatal      f  34.0   1.650  ...    0     f      1.0    5.0\n",
            "112   general      m  77.0   1.690  ...    0     0      0.0    0.0\n",
            "297   general      m  56.0   1.480  ...    0     0      0.0    0.0\n",
            "417   general      f  26.0   1.650  ...    0     0      0.0    0.0\n",
            "660  prenatal      f  38.0   1.590  ...    0     f      1.0    4.0\n",
            "344   general      f  60.0   1.410  ...    0     0      0.0    0.0\n",
            "834    sports      f  21.0   5.585  ...    f     t      0.0    0.0\n",
            "10    general      m  27.0   1.850  ...    0     0      0.0    0.0\n",
            "56    general      m  23.0   1.650  ...    0     0      0.0    0.0\n",
            "616  prenatal      f  33.0   1.770  ...    0     f      1.0    7.0\n",
            "479  prenatal      f  35.0   1.810  ...    0     f      1.0    8.0\n",
            "578  prenatal      f  31.0   1.770  ...    0     f      1.0    8.0\n",
            "411   general      m  26.0   1.610  ...    0     0      0.0    0.0\n",
            "521  prenatal      f  30.0   1.740  ...    0     f      1.0    3.0\n",
            "941    sports      f  25.0   6.208  ...    f     t      0.0    0.0\n",
            "\n",
            "[20 rows x 14 columns]\n"
          ]
        }
      ],
      "source": [
        "# виправлення даних у таблиці по крокам\n",
        "# 1\n",
        "df_combined = df_combined.dropna(how='all')\n",
        "# 2\n",
        "gender_mapping = {'female': 'f', 'woman': 'f', 'male': 'm', 'man': 'm'}\n",
        "df_combined = df_combined.replace(gender_mapping)\n",
        "# 3\n",
        "df_combined.loc[df_combined['hospital'] == 'prenatal', 'gender'] = df_combined.loc[df_combined['hospital'] == 'prenatal', 'gender'].fillna('f')\n",
        "# 4\n",
        "columns_to_replace = ['bmi', 'diagnosis', 'blood_test', 'ecg', 'ultrasound', 'mri', 'xray', 'children', 'months']\n",
        "df_combined[columns_to_replace] = df_combined[columns_to_replace].fillna(0)\n",
        "# 5\n",
        "print(\"Розміри (shape) отриманого об'єкту DataFrame: \", pd.concat([df_general, df_prenatal, df_sports], ignore_index=True).shape)\n",
        "print()\n",
        "# 6\n",
        "print(df_combined.sample(n=20, random_state=30))"
      ],
      "metadata": {
        "ExecuteTime": {
          "end_time": "2023-09-25T22:42:58.915855800Z",
          "start_time": "2023-09-25T22:42:58.772066900Z"
        },
        "id": "934883b586b7e306",
        "colab": {
          "base_uri": "https://localhost:8080/"
        },
        "outputId": "9e4bb31a-7559-4909-9ffa-9ad7a6fc7da4"
      },
      "id": "934883b586b7e306"
    },
    {
      "cell_type": "markdown",
      "source": [
        "Після виправлення даних можна отримати основні статистичні характеристики, розподіл даних, тощо.\n",
        "\n",
        "Надайте відповіді на наступні питання:\n",
        "1. Яка лікарня ( *hospital* ) має найбільшу кількість пацієнтів? (див. функції [groupby, count](https://pandas.pydata.org/docs/reference/api/pandas.core.groupby.DataFrameGroupBy.count.html), [idxmax](https://pandas.pydata.org/docs/reference/api/pandas.DataFrame.idxmax.html))\n",
        "2. Яка частка пацієнтів загальної ( *general* ) лікарні страждає на проблеми зі шлунком (стовпець *stomach* )? Округліть результат до третього знака після коми. (зверніть увагу на стовпці *diagnosis*, *stomach*, див. на функцію [value_counts()](https://pandas.pydata.org/docs/reference/api/pandas.Series.value_counts.html))\n",
        "3. Яка різниця в медіанному віці (необхідно знайти значення медіани) пацієнтів загальної ( *general* ) та спортивної ( *sports* ) лікарень? (див. функцію [median()](https://pandas.pydata.org/docs/reference/api/pandas.DataFrame.median.html))\n"
      ],
      "metadata": {
        "collapsed": false,
        "id": "10672eff86259172"
      },
      "id": "10672eff86259172"
    },
    {
      "cell_type": "code",
      "execution_count": 182,
      "outputs": [
        {
          "output_type": "stream",
          "name": "stdout",
          "text": [
            "Лікарня з найбільшою кількістю пацієнтів: general\n",
            "Частка пацієнтів загальної лікарні з проблемами зі шлунком: 0.325\n",
            "Різниця в медіанному віці між пацієнтами загальної та спортивної лікарень: 19.0\n"
          ]
        }
      ],
      "source": [
        "# Групуємо дані за лікарнями і підраховуємо кількість пацієнтів у кожній лікарні\n",
        "hospital_patient_counts = df_combined.groupby('hospital')['gender'].count()\n",
        "# Знаходимо лікарню з найбільшою кількістю пацієнтів\n",
        "most_patients_hospital = hospital_patient_counts.idxmax()\n",
        "print(f\"Лікарня з найбільшою кількістю пацієнтів: {most_patients_hospital}\")\n",
        "\n",
        "# Вибірка даних тільки для загальної лікарні та тих, хто має проблеми зі шлунком\n",
        "general_stomach_patients = df_combined[(df_combined['hospital'] == 'general') & (df_combined['diagnosis'] == 'stomach')]\n",
        "# Обчислення частки пацієнтів з проблемами зі шлунком серед загальної лікарні\n",
        "fraction_stomach_patients = len(general_stomach_patients) / len(df_combined[df_combined['hospital'] == 'general'])\n",
        "# Округлення результату до третього знака після коми\n",
        "fraction_stomach_patients_rounded = round(fraction_stomach_patients, 3)\n",
        "print(f\"Частка пацієнтів загальної лікарні з проблемами зі шлунком: {fraction_stomach_patients_rounded}\")\n",
        "\n",
        "# Вибірка даних тільки для загальної та спортивної лікарень\n",
        "general_age = df_combined[df_combined['hospital'] == 'general']['age']\n",
        "sports_age = df_combined[df_combined['hospital'] == 'sports']['age']\n",
        "# Знаходження медіани віку для кожної лікарні\n",
        "median_general_age = general_age.median()\n",
        "median_sports_age = sports_age.median()\n",
        "# Знаходження різниці в медіанному віці\n",
        "age_difference = median_general_age - median_sports_age\n",
        "print(f\"Різниця в медіанному віці між пацієнтами загальної та спортивної лікарень: {age_difference}\")"
      ],
      "metadata": {
        "id": "2e603178c7bca2c0",
        "colab": {
          "base_uri": "https://localhost:8080/"
        },
        "outputId": "4dd61188-2d84-4e36-f020-0d6e99a302cd"
      },
      "id": "2e603178c7bca2c0"
    },
    {
      "cell_type": "markdown",
      "source": [
        "В кінці необхідно створити візуалізацію даних.\n",
        "Отже, покажіть який вік пацієнтів найчастіше серед усіх лікарень? Побудуйте гістограму та виберіть один із таких вікових діапазонів: 0-15, 15-35, 35-55, 55-70 або 70-80."
      ],
      "metadata": {
        "collapsed": false,
        "id": "5cb0a071f2d5f07"
      },
      "id": "5cb0a071f2d5f07"
    },
    {
      "cell_type": "code",
      "execution_count": 181,
      "outputs": [
        {
          "output_type": "display_data",
          "data": {
            "text/plain": [
              "<Figure size 640x480 with 1 Axes>"
            ],
            "image/png": "[encoded data removed]"
          },
          "metadata": {}
        }
      ],
      "source": [
        "# Побудова гістограми для віку пацієнтів усіх лікарень\n",
        "age_range = (35, 55)\n",
        "# Фільтрація даних для вікового діапазону\n",
        "filtered_age_data = df_combined[(df_combined['age'] >= age_range[0]) & (df_combined['age'] <= age_range[1])]\n",
        "# Побудова гістограми для віку пацієнтів усіх лікарень в обраному віковому діапазоні\n",
        "plt.hist(filtered_age_data['age'], bins=20, edgecolor='black')\n",
        "plt.title('Розподіл віку пацієнтів усіх лікарень (35-55)')\n",
        "plt.xlabel('Вік')\n",
        "plt.ylabel('Кількість пацієнтів')\n",
        "plt.show()"
      ],
      "metadata": {
        "id": "e01f8dbf9a110c47",
        "colab": {
          "base_uri": "https://localhost:8080/",
          "height": 472
        },
        "outputId": "71f8f194-25d0-4b38-d8a4-dfec6e5183fd"
      },
      "id": "e01f8dbf9a110c47"
    }
  ],
  "metadata": {
    "kernelspec": {
      "display_name": "Python 3",
      "language": "python",
      "name": "python3"
    },
    "language_info": {
      "codemirror_mode": {
        "name": "ipython",
        "version": 2
      },
      "file_extension": ".py",
      "mimetype": "text/x-python",
      "name": "python",
      "nbconvert_exporter": "python",
      "pygments_lexer": "ipython2",
      "version": "2.7.6"
    },
    "colab": {
      "provenance": [],
      "include_colab_link": true
    }
  },
  "nbformat": 4,
  "nbformat_minor": 5
}
