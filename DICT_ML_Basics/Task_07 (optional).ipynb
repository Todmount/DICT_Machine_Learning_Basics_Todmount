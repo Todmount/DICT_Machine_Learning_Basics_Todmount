{
  "nbformat": 4,
  "nbformat_minor": 0,
  "metadata": {
    "colab": {
      "provenance": [],
      "authorship_tag": "ABX9TyO5+S5VhU6uUyv/jeinoIFR",
      "include_colab_link": true
    },
    "kernelspec": {
      "name": "python3",
      "display_name": "Python 3"
    },
    "language_info": {
      "name": "python"
    }
  },
  "cells": [
    {
      "cell_type": "markdown",
      "metadata": {
        "id": "view-in-github",
        "colab_type": "text"
      },
      "source": [
        "<a href=\"https://colab.research.google.com/github/Todmount/DICT_ML_Basics_Andrii_Lesniak/blob/PR7/Task_7.ipynb\" target=\"_parent\"><img src=\"https://colab.research.google.com/assets/colab-badge.svg\" alt=\"Open In Colab\"/></a>"
      ]
    },
    {
      "cell_type": "code",
      "source": [
        "import numpy as np\n",
        "from sklearn.linear_model import LinearRegression\n",
        "from sklearn.metrics import mean_squared_error, r2_score"
      ],
      "metadata": {
        "id": "PXvfT4iTa3hQ"
      },
      "execution_count": 61,
      "outputs": []
    },
    {
      "cell_type": "code",
      "execution_count": 155,
      "metadata": {
        "id": "92ng87K9awYD"
      },
      "outputs": [],
      "source": [
        "x = np.array([4, 4.5, 5, 5.5, 6, 6.5, 7])\n",
        "w = np.array([1, -3, 2, 5, 0, 3, 6])\n",
        "z = np.array([11, 15, 12, 9, 18, 13, 16])\n",
        "y = np.array([33, 42, 45, 51, 53, 61, 62])\n",
        "\n",
        "# Власна реалізація лінійної регресії\n",
        "class CustomLinearRegression:\n",
        "    def __init__(self, *,fit_intercept=True):\n",
        "        self.fit_intercept = fit_intercept\n",
        "        self.coefficient = None\n",
        "        self.intercept = None\n",
        "\n",
        "    def fit(self, X, y):\n",
        "        if self.fit_intercept:\n",
        "            X = np.column_stack((np.ones(len(X)), X))\n",
        "\n",
        "        X_transpose = np.transpose(X)\n",
        "        self.coefficient = np.linalg.inv(X_transpose.dot(X)) @ X_transpose @ y\n",
        "\n",
        "        if self.fit_intercept:\n",
        "            self.intercept = self.coefficient[0]\n",
        "            self.coefficient = self.coefficient[1:]\n",
        "\n",
        "    def predict(self, X):\n",
        "        if self.fit_intercept:\n",
        "            X = np.column_stack((np.ones(len(X)), X))\n",
        "        return X @ self.coefficient + self.intercept if self.fit_intercept else X @ self.coefficient\n",
        "\n",
        "\n",
        "\n",
        "    def r2_score(self, y, yhat):\n",
        "        mean_y = np.mean(y)\n",
        "        total_sum_of_squares = np.sum((y - mean_y)**2)\n",
        "        residual_sum_of_squares = np.sum((y - yhat)**2)\n",
        "        r2 = 1 - residual_sum_of_squares / total_sum_of_squares\n",
        "        return r2\n",
        "\n",
        "    def rmse(self, y, yhat):\n",
        "        return np.sqrt(np.mean((y - yhat)**2))\n",
        "\n",
        "# Створення та навчання моделі\n",
        "custom_model = CustomLinearRegression(fit_intercept=False)\n",
        "X = np.column_stack((x, w, z))\n",
        "custom_model.fit(X, y)\n",
        "\n",
        "custom_y_pred = custom_model.predict(X)\n",
        "custom_r2 = custom_model.r2_score(y, custom_y_pred)\n",
        "custom_rmse = custom_model.rmse(y, custom_y_pred)\n",
        "\n",
        "# Модель з sklearn\n",
        "model = LinearRegression(fit_intercept=False)\n",
        "model.fit(X, y)\n",
        "\n",
        "y_pred = model.predict(X)\n",
        "r2 = r2_score(y, y_pred)\n",
        "rmse = np.sqrt(mean_squared_error(y, y_pred))"
      ]
    },
    {
      "cell_type": "markdown",
      "source": [
        "Вивід"
      ],
      "metadata": {
        "id": "vzjV_fOvsNhb"
      }
    },
    {
      "cell_type": "code",
      "source": [
        "np.set_printoptions(formatter={'float': '{: 0.5f}'.format})\n",
        "\n",
        "# Власна реалізація\n",
        "print(\"\\n\\033[1mВласна реалізація\\033[0m\")\n",
        "print(\"Вагові коефіцієнти:\".ljust(30), custom_model.coefficient)\n",
        "print(\"Прогнозовані значення:\".ljust(30), custom_y_pred)\n",
        "print(\"R\\u00B2:\".ljust(30), custom_r2)\n",
        "print(\"RMSE:\".ljust(30), custom_rmse)\n",
        "\n",
        "# sklearn\n",
        "print(\"\\n\\033[1msklearn\\033[0m\")\n",
        "print(\"Вагові коефіцієнти:\".ljust(30), model.coef_)\n",
        "print(\"Прогнозовані значення:\".ljust(30), y_pred)\n",
        "print(\"R\\u00B2:\".ljust(30), r2)\n",
        "print(\"RMSE:\".ljust(30), rmse)\n",
        "\n",
        "# Порівняння\n",
        "print('-' * 103)  # лінія-роздільник\n",
        "percentage_match_coef = 100 * np.sum(np.isclose(custom_model.coefficient, model.coef_)) / len(y)\n",
        "percentage_match_pred = 100 * np.sum(np.isclose(custom_y_pred, y_pred)) / len(y)\n",
        "percentage_match_r2 = 100 * np.isclose(custom_r2, r2)\n",
        "percentage_match_rmse = 100 * np.isclose(custom_rmse, rmse)\n",
        "print(f\"Співпадіння вагових коефіціентів : {percentage_match_coef:.2f}%\")\n",
        "print(f\"Співпадіння прогнозованих значень: {percentage_match_pred:.2f}%\")\n",
        "print(f\"Співпадіння R\\u00B2: {percentage_match_r2:.2f}%\")\n",
        "print(f\"Співпадіння RMSE: {percentage_match_rmse:.2f}%\")"
      ],
      "metadata": {
        "colab": {
          "base_uri": "https://localhost:8080/"
        },
        "id": "RbaaqWy_sN9M",
        "outputId": "42be9352-a014-4381-b96e-94f05b17f48b"
      },
      "execution_count": 156,
      "outputs": [
        {
          "output_type": "stream",
          "name": "stdout",
          "text": [
            "\n",
            "\u001b[1mВласна реалізація\u001b[0m\n",
            "Вагові коефіцієнти:            [ 11.76588 -0.95080 -0.97753]\n",
            "Прогнозовані значення:         [ 35.35993  41.13595  45.19749  51.16063  52.99981  60.91799  61.01597]\n",
            "R²:                            0.9887132667167061\n",
            "RMSE:                          1.0250940946197193\n",
            "\n",
            "\u001b[1msklearn\u001b[0m\n",
            "Вагові коефіцієнти:            [ 11.76588 -0.95080 -0.97753]\n",
            "Прогнозовані значення:         [ 35.35993  41.13595  45.19749  51.16063  52.99981  60.91799  61.01597]\n",
            "R²:                            0.9887132667167061\n",
            "RMSE:                          1.0250940946197167\n",
            "-------------------------------------------------------------------------------------------------------\n",
            "Співпадіння вагових коефіціентів : 42.86%\n",
            "Співпадіння прогнозованих значень: 100.00%\n",
            "Співпадіння R²: 100.00%\n",
            "Співпадіння RMSE: 100.00%\n"
          ]
        }
      ]
    }
  ]
}
