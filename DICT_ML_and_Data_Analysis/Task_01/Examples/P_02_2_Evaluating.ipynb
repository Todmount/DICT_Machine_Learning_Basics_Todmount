{
 "nbformat": 4,
 "nbformat_minor": 0,
 "metadata": {
  "colab": {
   "provenance": []
  },
  "kernelspec": {
   "name": "python3",
   "language": "python",
   "display_name": "Python 3 (ipykernel)"
  },
  "language_info": {
   "name": "python"
  }
 },
 "cells": [
  {
   "cell_type": "code",
   "execution_count": 2,
   "metadata": {
    "id": "g_WZ7CM8PNr3",
    "ExecuteTime": {
     "end_time": "2024-03-12T14:58:44.476702800Z",
     "start_time": "2024-03-12T14:58:43.621106200Z"
    }
   },
   "outputs": [],
   "source": [
    "# Imports\n",
    "from sklearn.model_selection import cross_val_score\n",
    "from sklearn.dummy import DummyClassifier\n",
    "from sklearn.ensemble import RandomForestClassifier\n",
    "from sklearn.linear_model import LogisticRegression\n",
    "from sklearn.datasets import make_classification"
   ]
  },
  {
   "cell_type": "code",
   "source": [
    "# Data\n",
    "X, у = make_classification(n_samples = 10000,\n",
    "                           n_features = 3,\n",
    "                           n_informative = 3,\n",
    "                           n_redundant = 0,\n",
    "                           n_classes = 2,\n",
    "                           random_state = 1)"
   ],
   "metadata": {
    "id": "BqM9gdhmPvEZ",
    "ExecuteTime": {
     "end_time": "2024-03-12T14:58:45.365367100Z",
     "start_time": "2024-03-12T14:58:45.347064Z"
    }
   },
   "execution_count": 3,
   "outputs": []
  },
  {
   "cell_type": "code",
   "source": [
    "# Models\n",
    "models = {'Dummy': DummyClassifier(strategy='uniform', random_state=1),\n",
    "          'Forest': RandomForestClassifier(),\n",
    "          'Log regr': LogisticRegression()}"
   ],
   "metadata": {
    "id": "ImKzpf5nQFbg",
    "ExecuteTime": {
     "end_time": "2024-03-12T14:58:46.790817200Z",
     "start_time": "2024-03-12T14:58:46.783786800Z"
    }
   },
   "execution_count": 4,
   "outputs": []
  },
  {
   "cell_type": "code",
   "source": [
    "# Indicators\n",
    "indicators = ['accuracy', 'precision', 'recall', 'f1']"
   ],
   "metadata": {
    "id": "kEkFA3iVQpJr",
    "ExecuteTime": {
     "end_time": "2024-03-12T14:58:48.530960900Z",
     "start_time": "2024-03-12T14:58:48.523103600Z"
    }
   },
   "execution_count": 5,
   "outputs": []
  },
  {
   "cell_type": "code",
   "source": [
    "for name, model in models.items():\n",
    "  print(name)\n",
    "\n",
    "  for metric in indicators:\n",
    "    score = cross_val_score(model, X, у, scoring=metric)\n",
    "    print(f'  {metric}: {score}')\n",
    "\n",
    "  print()"
   ],
   "metadata": {
    "colab": {
     "base_uri": "https://localhost:8080/"
    },
    "id": "SFNAGfV8SKNS",
    "outputId": "772f5b22-a8bd-490d-abbd-dc0fbc4d04ae",
    "ExecuteTime": {
     "end_time": "2024-03-12T14:59:11.039690200Z",
     "start_time": "2024-03-12T14:58:49.940707600Z"
    }
   },
   "execution_count": 6,
   "outputs": [
    {
     "name": "stdout",
     "output_type": "stream",
     "text": [
      "Dummy\n",
      "  accuracy: [0.4995 0.4935 0.5115 0.5295 0.4995]\n",
      "  precision: [0.49948718 0.49333333 0.51179487 0.53025641 0.49948718]\n",
      "  recall: [0.487 0.481 0.499 0.517 0.487]\n",
      "  f1: [0.49316456 0.48708861 0.50531646 0.5235443  0.49316456]\n",
      "\n",
      "Forest\n",
      "  accuracy: [0.973  0.97   0.9735 0.9685 0.975 ]\n",
      "  precision: [0.97294589 0.96161417 0.97672065 0.9681592  0.97492477]\n",
      "  recall: [0.971 0.976 0.969 0.974 0.975]\n",
      "  f1: [0.97145719 0.96975706 0.97234791 0.97069051 0.97548774]\n",
      "\n",
      "Log regr\n",
      "  accuracy: [0.9555 0.95   0.9585 0.9555 0.956 ]\n",
      "  precision: [0.95963673 0.94820717 0.9635996  0.96149949 0.96060606]\n",
      "  recall: [0.951 0.952 0.953 0.949 0.951]\n",
      "  f1: [0.95529884 0.9500998  0.95827049 0.95520886 0.95577889]\n"
     ]
    }
   ]
  },
  {
   "cell_type": "code",
   "source": [],
   "metadata": {
    "id": "UgCaDbWgSzgr"
   },
   "execution_count": null,
   "outputs": []
  }
 ]
}
