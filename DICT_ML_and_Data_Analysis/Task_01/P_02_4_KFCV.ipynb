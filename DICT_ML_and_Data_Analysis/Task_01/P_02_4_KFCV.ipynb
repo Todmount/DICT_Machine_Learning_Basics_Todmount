{
 "nbformat": 4,
 "nbformat_minor": 0,
 "metadata": {
  "colab": {
   "provenance": []
  },
  "kernelspec": {
   "name": "python3",
   "language": "python",
   "display_name": "Python 3 (ipykernel)"
  },
  "language_info": {
   "name": "python"
  }
 },
 "cells": [
  {
   "cell_type": "code",
   "execution_count": 1,
   "metadata": {
    "id": "uaM0nUD2WqpY",
    "ExecuteTime": {
     "end_time": "2024-03-12T14:42:00.770134200Z",
     "start_time": "2024-03-12T14:42:00.155096500Z"
    }
   },
   "outputs": [],
   "source": [
    "# Imports\n",
    "from sklearn import datasets\n",
    "from sklearn.model_selection import KFold, cross_val_score\n",
    "from sklearn.pipeline import make_pipeline\n",
    "from sklearn.linear_model import LogisticRegression\n",
    "from sklearn.preprocessing import StandardScaler"
   ]
  },
  {
   "cell_type": "code",
   "source": [
    "# Data\n",
    "iris = datasets.load_iris()\n",
    "features = iris.data\n",
    "target = iris.target"
   ],
   "metadata": {
    "id": "8Lj6I5gGXCVj",
    "ExecuteTime": {
     "end_time": "2024-03-12T14:42:00.807962100Z",
     "start_time": "2024-03-12T14:42:00.773145200Z"
    }
   },
   "execution_count": 2,
   "outputs": []
  },
  {
   "cell_type": "code",
   "source": [
    "# Model\n",
    "logit = LogisticRegression()\n",
    "\n",
    "standardizer = StandardScaler()\n",
    "\n",
    "pipeline = make_pipeline(standardizer, logit)\n",
    "\n",
    "kf = KFold(n_splits=10, shuffle=True, random_state=1)\n",
    "\n",
    "cv_results = cross_val_score(pipeline,\n",
    "                             features,\n",
    "                             target,\n",
    "                             cv=kf,\n",
    "                             scoring=\"accuracy\", # also, we can use other indicators\n",
    "                             n_jobs=-1) # use all CPU cores\n",
    "\n",
    "print(cv_results.mean())"
   ],
   "metadata": {
    "colab": {
     "base_uri": "https://localhost:8080/"
    },
    "id": "i4nQKSJGXjd6",
    "outputId": "f4ffb314-06bc-4953-f902-90a68a84ab28",
    "ExecuteTime": {
     "end_time": "2024-03-12T21:07:25.298383200Z",
     "start_time": "2024-03-12T21:07:22.975597100Z"
    }
   },
   "execution_count": 4,
   "outputs": [
    {
     "name": "stdout",
     "output_type": "stream",
     "text": [
      "0.9533333333333334\n"
     ]
    }
   ]
  },
  {
   "cell_type": "code",
   "source": [],
   "metadata": {
    "id": "Kx5Kfp70YVr6"
   },
   "execution_count": null,
   "outputs": []
  }
 ]
}
