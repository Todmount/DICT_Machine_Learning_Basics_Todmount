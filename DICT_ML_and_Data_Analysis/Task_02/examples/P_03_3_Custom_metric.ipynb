{
 "nbformat": 4,
 "nbformat_minor": 0,
 "metadata": {
  "colab": {
   "provenance": []
  },
  "kernelspec": {
   "name": "python3",
   "language": "python",
   "display_name": "Python 3 (ipykernel)"
  },
  "language_info": {
   "name": "python"
  }
 },
 "cells": [
  {
   "cell_type": "code",
   "execution_count": 1,
   "metadata": {
    "id": "tMFEW89mpzuH",
    "ExecuteTime": {
     "end_time": "2024-03-13T10:55:53.704646900Z",
     "start_time": "2024-03-13T10:55:52.377731900Z"
    }
   },
   "outputs": [],
   "source": [
    "from sklearn.metrics import make_scorer, r2_score\n",
    "from sklearn.model_selection import train_test_split\n",
    "from sklearn.linear_model import LinearRegression\n",
    "from sklearn.linear_model import Ridge\n",
    "from sklearn.datasets import make_regression\n",
    "from math import log"
   ]
  },
  {
   "cell_type": "code",
   "source": [
    "# Data\n",
    "features, target = make_regression(n_samples = 100,\n",
    "                                   n_features = 3,\n",
    "                                   random_state = 1)\n",
    "features_train, features_test, target_train, target_test = train_test_split(features, target, test_size=0.10, random_state=1)"
   ],
   "metadata": {
    "id": "EYzxtofkqVCS",
    "ExecuteTime": {
     "end_time": "2024-03-13T10:55:53.716526800Z",
     "start_time": "2024-03-13T10:55:53.710646700Z"
    }
   },
   "execution_count": 2,
   "outputs": []
  },
  {
   "cell_type": "code",
   "source": [
    "# Custom metric\n",
    "def custom_metric(target_test, target_predicted):\n",
    "  r2 = r2_score(target_test, target_predicted)\n",
    "  return -log(r2)"
   ],
   "metadata": {
    "id": "83t66TXqqm4c",
    "ExecuteTime": {
     "end_time": "2024-03-13T10:55:53.730083200Z",
     "start_time": "2024-03-13T10:55:53.721527400Z"
    }
   },
   "execution_count": 3,
   "outputs": []
  },
  {
   "cell_type": "code",
   "source": [
    "# Custom score\n",
    "score = make_scorer(custom_metric, greater_is_better=True)"
   ],
   "metadata": {
    "id": "ANpBgNJBq-gk",
    "ExecuteTime": {
     "end_time": "2024-03-13T10:55:54.316631500Z",
     "start_time": "2024-03-13T10:55:54.309082200Z"
    }
   },
   "execution_count": 4,
   "outputs": []
  },
  {
   "cell_type": "code",
   "source": [
    "# Ridge Regression\n",
    "classifier = Ridge()\n",
    "\n",
    "# Train\n",
    "model = classifier.fit(features_train, target_train)\n",
    "\n",
    "# Evaluate\n",
    "score(model, features_test, target_test)"
   ],
   "metadata": {
    "colab": {
     "base_uri": "https://localhost:8080/"
    },
    "id": "yxsqzSBhrem4",
    "outputId": "33c1f097-ecf7-444f-c377-970bd1c9dca3",
    "ExecuteTime": {
     "end_time": "2024-03-13T10:55:55.401875600Z",
     "start_time": "2024-03-13T10:55:55.375590Z"
    }
   },
   "execution_count": 5,
   "outputs": [
    {
     "data": {
      "text/plain": "0.00020941163688053112"
     },
     "execution_count": 5,
     "metadata": {},
     "output_type": "execute_result"
    }
   ]
  },
  {
   "cell_type": "code",
   "source": [
    "# Linear Regression\n",
    "model = LinearRegression()\n",
    "\n",
    "# Train\n",
    "model.fit(features_train, target_train)\n",
    "\n",
    "# Evaluate\n",
    "score(model,features_test, target_test)"
   ],
   "metadata": {
    "colab": {
     "base_uri": "https://localhost:8080/"
    },
    "id": "lQEjoqT-sQy1",
    "outputId": "ef0ccd4b-106d-43c7-9c9b-4b2e5b31469a",
    "ExecuteTime": {
     "end_time": "2024-03-13T10:55:57.271676200Z",
     "start_time": "2024-03-13T10:55:57.260853100Z"
    }
   },
   "execution_count": 6,
   "outputs": [
    {
     "data": {
      "text/plain": "-0.0"
     },
     "execution_count": 6,
     "metadata": {},
     "output_type": "execute_result"
    }
   ]
  }
 ]
}
