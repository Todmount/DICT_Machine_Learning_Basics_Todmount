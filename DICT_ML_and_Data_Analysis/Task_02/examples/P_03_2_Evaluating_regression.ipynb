{
  "nbformat": 4,
  "nbformat_minor": 0,
  "metadata": {
    "colab": {
      "provenance": []
    },
    "kernelspec": {
      "name": "python3",
      "display_name": "Python 3"
    },
    "language_info": {
      "name": "python"
    }
  },
  "cells": [
    {
      "cell_type": "code",
      "execution_count": 1,
      "metadata": {
        "id": "8JuN5180m2wP"
      },
      "outputs": [],
      "source": [
        "from sklearn.datasets import make_regression\n",
        "from sklearn.model_selection import cross_val_score\n",
        "from sklearn.linear_model import LinearRegression"
      ]
    },
    {
      "cell_type": "code",
      "source": [
        "# Data\n",
        "features, target = make_regression(n_samples = 100,\n",
        "                                   n_features = 3,\n",
        "                                   n_informative = 3,\n",
        "                                   n_targets = 1,\n",
        "                                   noise = 50,\n",
        "                                   coef = False,\n",
        "                                   random_state = 1)"
      ],
      "metadata": {
        "id": "T9S2tE_-niip"
      },
      "execution_count": 2,
      "outputs": []
    },
    {
      "cell_type": "code",
      "source": [
        "# Linear Regression\n",
        "lin_regr = LinearRegression()"
      ],
      "metadata": {
        "id": "RcTlsq0nn3Yk"
      },
      "execution_count": 3,
      "outputs": []
    },
    {
      "cell_type": "code",
      "source": [
        "# Evaluate using negative MSE\n",
        "cross_val_score(lin_regr, features, target, scoring='neg_mean_squared_error')"
      ],
      "metadata": {
        "colab": {
          "base_uri": "https://localhost:8080/"
        },
        "id": "RWlZpV-CoQp3",
        "outputId": "d2551079-12e4-47d9-e466-ed00b9931dc8"
      },
      "execution_count": 5,
      "outputs": [
        {
          "output_type": "execute_result",
          "data": {
            "text/plain": [
              "array([-1974.65337976, -2004.54137625, -3935.19355723, -1060.04361386,\n",
              "       -1598.74104702])"
            ]
          },
          "metadata": {},
          "execution_count": 5
        }
      ]
    },
    {
      "cell_type": "code",
      "source": [
        "# Evaluate using R^2\n",
        "cross_val_score(lin_regr, features, target, scoring='r2')"
      ],
      "metadata": {
        "colab": {
          "base_uri": "https://localhost:8080/"
        },
        "id": "j2qag_DjoTlN",
        "outputId": "4a67a714-98ed-401f-ac3c-42300737724e"
      },
      "execution_count": 7,
      "outputs": [
        {
          "output_type": "execute_result",
          "data": {
            "text/plain": [
              "array([0.8622399 , 0.85838075, 0.74723548, 0.91354743, 0.84469331])"
            ]
          },
          "metadata": {},
          "execution_count": 7
        }
      ]
    },
    {
      "cell_type": "code",
      "source": [],
      "metadata": {
        "id": "ULhOSvUzpDnL"
      },
      "execution_count": null,
      "outputs": []
    }
  ]
}