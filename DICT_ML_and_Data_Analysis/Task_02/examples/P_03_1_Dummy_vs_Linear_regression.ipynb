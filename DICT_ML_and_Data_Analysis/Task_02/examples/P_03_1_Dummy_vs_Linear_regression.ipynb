{
 "cells": [
  {
   "cell_type": "code",
   "execution_count": 1,
   "metadata": {
    "id": "NtI1PfQpkCUj",
    "ExecuteTime": {
     "end_time": "2024-03-13T10:54:50.348319300Z",
     "start_time": "2024-03-13T10:54:48.846069500Z"
    }
   },
   "outputs": [],
   "source": [
    "from sklearn.datasets import load_wine\n",
    "from sklearn.dummy import DummyRegressor\n",
    "from sklearn.model_selection import train_test_split\n",
    "from sklearn.linear_model import LinearRegression"
   ]
  },
  {
   "cell_type": "code",
   "execution_count": 2,
   "metadata": {
    "id": "E8cJnmFgkaPt",
    "ExecuteTime": {
     "end_time": "2024-03-13T10:54:50.457632700Z",
     "start_time": "2024-03-13T10:54:50.353315800Z"
    }
   },
   "outputs": [],
   "source": [
    "# Data\n",
    "boston = load_wine()\n",
    "features, target = boston.data, boston.target\n",
    "\n",
    "# Split data\n",
    "features_train, features_test, target_train, target_test = train_test_split(features, target, random_state=0)"
   ]
  },
  {
   "cell_type": "code",
   "execution_count": 3,
   "metadata": {
    "colab": {
     "base_uri": "https://localhost:8080/"
    },
    "id": "V08rwfa3lzj-",
    "outputId": "ab4390f3-ae76-4e7a-fa66-498cbc31e78c",
    "ExecuteTime": {
     "end_time": "2024-03-13T10:54:50.493213600Z",
     "start_time": "2024-03-13T10:54:50.456636900Z"
    }
   },
   "outputs": [
    {
     "data": {
      "text/plain": "-0.0480213580840978"
     },
     "execution_count": 3,
     "metadata": {},
     "output_type": "execute_result"
    }
   ],
   "source": [
    "# Dummy\n",
    "dummy = DummyRegressor(strategy='mean')\n",
    "\n",
    "# Train\n",
    "dummy.fit(features_train, target_train)\n",
    "\n",
    "# Evaluate\n",
    "dummy.score(features_test, target_test)"
   ]
  },
  {
   "cell_type": "code",
   "execution_count": 4,
   "metadata": {
    "colab": {
     "base_uri": "https://localhost:8080/"
    },
    "id": "4EcOgqGrl7pu",
    "outputId": "14ad766c-2977-40f5-9c1d-2883f07273f8",
    "ExecuteTime": {
     "end_time": "2024-03-13T10:54:50.526709900Z",
     "start_time": "2024-03-13T10:54:50.474216100Z"
    }
   },
   "outputs": [
    {
     "data": {
      "text/plain": "0.8043532631769538"
     },
     "execution_count": 4,
     "metadata": {},
     "output_type": "execute_result"
    }
   ],
   "source": [
    "# Linear Regression\n",
    "lin_regr = LinearRegression()\n",
    "\n",
    "# Train\n",
    "lin_regr.fit(features_train, target_train)\n",
    "\n",
    "# Evaluate\n",
    "lin_regr.score(features_test, target_test)"
   ]
  }
 ],
 "metadata": {
  "colab": {
   "provenance": []
  },
  "kernelspec": {
   "name": "python3",
   "language": "python",
   "display_name": "Python 3 (ipykernel)"
  },
  "language_info": {
   "name": "python"
  }
 },
 "nbformat": 4,
 "nbformat_minor": 0
}
